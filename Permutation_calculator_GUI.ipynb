{
 "cells": [
  {
   "cell_type": "code",
   "execution_count": 12,
   "metadata": {},
   "outputs": [],
   "source": [
    "import tkinter as tk\n",
    "from functools import partial\n",
    "\n",
    "def factorial(n=1):\n",
    "    M=1\n",
    "    while n>1:\n",
    "        M=M*n\n",
    "        n=n-1\n",
    "        \n",
    "    return int(M)\n",
    "\n",
    "\n",
    "def permutation(n=1,c=1):\n",
    "    if c>n:\n",
    "        print(\"c is greater than n. Please check the input and try again.\")\n",
    "        return -1\n",
    "    \n",
    "    else:\n",
    "        M=1\n",
    "        N=n\n",
    "        while(n>= (N-c+1) ):\n",
    "            M=M*n\n",
    "            n=n-1\n",
    "                \n",
    "        return int(M)\n",
    "\n",
    "def calculate_perm(label_result, n1, n2):  \n",
    "    num1 = int(n1.get())  \n",
    "    num2 = int(n2.get())  \n",
    "    result=permutation(num1,num2)\n",
    "    \n",
    "    label_result.config(text=\"%d\" % result)  \n",
    "    return\n",
    "\n",
    "master=tk.Tk()\n",
    "\n",
    "master.geometry(\"150x100\")\n",
    "master.title(\"Permutation calculator\")\n",
    "\n",
    "tk.Label(master,text=\"N=\").grid(row=1, column=2)\n",
    "tk.Label(master,text=\"C=\").grid(row=2, column=2)\n",
    "\n",
    "str_n=tk.StringVar(master,name='N')\n",
    "str_c=tk.StringVar(master,name='C')\n",
    "\n",
    "tk.Entry(master,textvariable=str_n).grid(row=1, column=3)\n",
    "tk.Entry(master,textvariable=str_c).grid(row=2, column=3)\n",
    "\n",
    "result=tk.Label(master)\n",
    "result.grid(row=3,column=3)\n",
    "\n",
    "calculate_perm = partial(calculate_perm, result, str_n,str_c)  \n",
    "\n",
    "tk.Button(master, text=\"Calculate\",command=calculate_perm).grid(row=3, column=2)\n",
    "\n",
    "master.mainloop()"
   ]
  },
  {
   "cell_type": "code",
   "execution_count": null,
   "metadata": {},
   "outputs": [],
   "source": []
  },
  {
   "cell_type": "code",
   "execution_count": null,
   "metadata": {},
   "outputs": [],
   "source": []
  }
 ],
 "metadata": {
  "kernelspec": {
   "display_name": "Python 3",
   "language": "python",
   "name": "python3"
  },
  "language_info": {
   "codemirror_mode": {
    "name": "ipython",
    "version": 3
   },
   "file_extension": ".py",
   "mimetype": "text/x-python",
   "name": "python",
   "nbconvert_exporter": "python",
   "pygments_lexer": "ipython3",
   "version": "3.7.3"
  }
 },
 "nbformat": 4,
 "nbformat_minor": 2
}
