{
 "cells": [
  {
   "cell_type": "code",
   "execution_count": 10,
   "metadata": {},
   "outputs": [],
   "source": [
    "import cv2\n",
    "\n",
    "#this code uses 2 file \n",
    "# 1. haarcascade_frontalface_default.xml\n",
    "# 2. pic.png"
   ]
  },
  {
   "cell_type": "code",
   "execution_count": 11,
   "metadata": {},
   "outputs": [
    {
     "name": "stdout",
     "output_type": "stream",
     "text": [
      "<class 'numpy.ndarray'>\n",
      "(400, 600, 3)\n",
      "[[[160 161 158]\n",
      "  [161 162 162]\n",
      "  [164 165 163]\n",
      "  ...\n",
      "  [199 199 194]\n",
      "  [201 198 196]\n",
      "  [201 198 196]]\n",
      "\n",
      " [[163 164 160]\n",
      "  [162 163 162]\n",
      "  [162 163 161]\n",
      "  ...\n",
      "  [202 202 197]\n",
      "  [199 199 194]\n",
      "  [199 201 194]]\n",
      "\n",
      " [[163 164 159]\n",
      "  [162 163 162]\n",
      "  [162 163 161]\n",
      "  ...\n",
      "  [203 200 195]\n",
      "  [200 202 197]\n",
      "  [202 202 197]]\n",
      "\n",
      " ...\n",
      "\n",
      " [[189 189 189]\n",
      "  [189 189 189]\n",
      "  [189 189 189]\n",
      "  ...\n",
      "  [206 207 205]\n",
      "  [206 207 205]\n",
      "  [209 209 207]]\n",
      "\n",
      " [[189 189 189]\n",
      "  [189 189 189]\n",
      "  [189 189 189]\n",
      "  ...\n",
      "  [207 209 207]\n",
      "  [206 207 205]\n",
      "  [209 209 207]]\n",
      "\n",
      " [[186 186 186]\n",
      "  [186 186 186]\n",
      "  [189 189 189]\n",
      "  ...\n",
      "  [209 209 207]\n",
      "  [207 207 205]\n",
      "  [209 209 207]]]\n"
     ]
    }
   ],
   "source": [
    "img=cv2.imread(\"pic.png\",1)\n",
    "print(type(img))\n",
    "print(img.shape)\n",
    "print(img)"
   ]
  },
  {
   "cell_type": "code",
   "execution_count": null,
   "metadata": {},
   "outputs": [],
   "source": [
    "cv2.imshow(\"abc\",img)\n",
    "cv2.waitKey(0)\n",
    "\n",
    "resize_img=cv2.resize(img, ( int(img.shape[1]/2),int(img.shape[0]/2) ) )\n",
    "cv2.imshow(\"abc\",resize_img)\n",
    "cv2.waitKey(0)"
   ]
  },
  {
   "cell_type": "code",
   "execution_count": null,
   "metadata": {},
   "outputs": [],
   "source": [
    "face_cascade=cv2.CascadeClassifier(\"haarcascade_frontalface_default.xml\")\n",
    "gray_image=cv2.cvtColor(img,cv2.COLOR_BGR2GRAY)\n",
    "    \n",
    "cv2.imshow(\"abc\",gray_image)\n",
    "cv2.waitKey(0)\n",
    "\n",
    "faces=face_cascade.detectMultiScale(gray_image,scaleFactor=1.05,minNeighbors=5)\n",
    "\n",
    "for x,y,w,h in faces:\n",
    "    i+=1\n",
    "    img=cv2.rectangle(img, (x,y), (x+w, y+h), (0,255,0), 3 )\n",
    "\n",
    "    \n",
    "cv2.imshow(\"abc\",img)\n",
    "cv2.waitKey(0)\n",
    "\n",
    "cv2.destroyAllWindows()\n",
    "    "
   ]
  },
  {
   "cell_type": "code",
   "execution_count": null,
   "metadata": {},
   "outputs": [],
   "source": []
  }
 ],
 "metadata": {
  "kernelspec": {
   "display_name": "Python 3",
   "language": "python",
   "name": "python3"
  },
  "language_info": {
   "codemirror_mode": {
    "name": "ipython",
    "version": 3
   },
   "file_extension": ".py",
   "mimetype": "text/x-python",
   "name": "python",
   "nbconvert_exporter": "python",
   "pygments_lexer": "ipython3",
   "version": "3.7.3"
  }
 },
 "nbformat": 4,
 "nbformat_minor": 2
}
